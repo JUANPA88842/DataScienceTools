{
 "cells": [
  {
   "cell_type": "markdown",
   "id": "3af6a338-d1be-4dff-8f43-71af88fb9d96",
   "metadata": {},
   "source": [
    "# Data Science Tools and Ecosystem"
   ]
  },
  {
   "cell_type": "markdown",
   "id": "faaa9dcc-b7d2-4802-9954-ada6f71c11bd",
   "metadata": {},
   "source": [
    "In this notebook, Data Science Tools and Ecosystem are summarized.\n"
   ]
  },
  {
   "cell_type": "markdown",
   "id": "950156e7-45df-4184-9374-2a7cd49b1e92",
   "metadata": {},
   "source": [
    "**Objectives:**\n",
    "- List popular languages for Data Science\n",
    "- List of popular libraries for Data Science\n",
    "- Examples of evaluating aritmetuch expresions\n",
    "- Markdown common uses\n",
    "- Development Environment open source"
   ]
  },
  {
   "cell_type": "markdown",
   "id": "36994323-6404-4a26-81ca-ad1f56146af1",
   "metadata": {},
   "source": [
    "Some of the popular languages that Data Scientists use are:\n",
    "1. Pyhon\n",
    "2. R\n",
    "3. Rust"
   ]
  },
  {
   "cell_type": "markdown",
   "id": "1a193661-969a-473c-a8ec-2ed63b08af71",
   "metadata": {},
   "source": [
    "Some of the commonly used libraries used by Data Scientists include:\n",
    "1. Matplotlib\n",
    "2. Numpy\n",
    "3. Scikit-learn"
   ]
  },
  {
   "cell_type": "markdown",
   "id": "6d3b4eb1-69f7-4aba-a373-e8a4327897b6",
   "metadata": {},
   "source": [
    "| Data Science Tools |\n",
    "|--------------------|\n",
    "| Visual studio code |\n",
    "| Anaconda           |\n",
    "| Jupyter lab        |"
   ]
  },
  {
   "cell_type": "markdown",
   "id": "5cc60662-ea6c-47c5-ae36-43d2c123f48c",
   "metadata": {},
   "source": [
    "### Below are a few examples of evaluating arithmetic expressions in Python"
   ]
  },
  {
   "cell_type": "code",
   "execution_count": 5,
   "id": "159dd64d-43fd-4615-b6de-cd28d044ad61",
   "metadata": {},
   "outputs": [
    {
     "data": {
      "text/plain": [
       "17"
      ]
     },
     "execution_count": 5,
     "metadata": {},
     "output_type": "execute_result"
    }
   ],
   "source": [
    "\n",
    "#This a simple arithmetic expression to mutiply then add integers\n",
    "(3*4)+5"
   ]
  },
  {
   "cell_type": "code",
   "execution_count": 13,
   "id": "fbaa7279-e403-462a-bd33-322bf85926a1",
   "metadata": {},
   "outputs": [
    {
     "name": "stdout",
     "output_type": "stream",
     "text": [
      "3.3333333333333335 hours\n"
     ]
    }
   ],
   "source": [
    "#This will convert 200 minutes to hours by diving by 60\n",
    "\n",
    "min = 200\n",
    "hours = min/60\n",
    "print(f\"{hours} hours\")\n"
   ]
  },
  {
   "cell_type": "markdown",
   "id": "d0d5d2d1-44d4-4c4f-8c5d-40c714b9405f",
   "metadata": {},
   "source": [
    "## Author\n",
    "Juan Pablo Cuartas Gallego"
   ]
  }
 ],
 "metadata": {
  "kernelspec": {
   "display_name": "Python 3 (ipykernel)",
   "language": "python",
   "name": "python3"
  },
  "language_info": {
   "codemirror_mode": {
    "name": "ipython",
    "version": 3
   },
   "file_extension": ".py",
   "mimetype": "text/x-python",
   "name": "python",
   "nbconvert_exporter": "python",
   "pygments_lexer": "ipython3",
   "version": "3.12.9"
  }
 },
 "nbformat": 4,
 "nbformat_minor": 5
}
